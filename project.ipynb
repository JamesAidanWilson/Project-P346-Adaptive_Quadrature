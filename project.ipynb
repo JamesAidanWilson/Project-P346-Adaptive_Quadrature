{
 "cells": [
  {
   "cell_type": "code",
   "execution_count": null,
   "metadata": {},
   "outputs": [],
   "source": [
    "def Int_Trapezoid(f,a,b,N):\n",
    "    h = float((b-a)/N)\n",
    "    i = 0\n",
    "    I = 0\n",
    "    while i != N:\n",
    "        I += (h/2)*(f(a + i*h) + f(a + (i + 1)*h))\n",
    "    return I"
   ]
  }
 ],
 "metadata": {
  "language_info": {
   "name": "python"
  },
  "orig_nbformat": 4
 },
 "nbformat": 4,
 "nbformat_minor": 2
}

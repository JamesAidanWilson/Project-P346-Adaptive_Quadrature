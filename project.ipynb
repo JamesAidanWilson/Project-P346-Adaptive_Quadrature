{
 "cells": [
  {
   "cell_type": "code",
   "execution_count": 18,
   "metadata": {},
   "outputs": [
    {
     "name": "stdout",
     "output_type": "stream",
     "text": [
      "For the first function, (x^3)log(1/x), the adaptive treatment gives the result: \n",
      " I1 =-1000.7856681306698\n",
      "For the first function, (x^(1/2))exp(-x), the adaptive treatment gives the result: \n",
      " I2 =0.00015069823940933947\n"
     ]
    }
   ],
   "source": [
    "\n",
    "def trapezoid(f, a, b, n): \n",
    "    h = abs(b-a)/n\n",
    "    N = [] \n",
    "    for i in range(n+1):    # Standard Trapezoid method\n",
    "        N.append(a + i*h)\n",
    "    I = [] \n",
    "    for i in range(1, len(N)):\n",
    "        I.append((h/2)*(f(N[i-1])+f(N[i]))) \n",
    "    I_n = sum(I) \n",
    "    return I_n\n",
    "\n",
    "def adaptive_measure(f, a, b, err): \n",
    "    dum = 100 \n",
    "    N = 2 \n",
    "    while dum > err:   # adaptive step for customized intervals\n",
    "        I_k = trapezoid(f, a, b, N) \n",
    "        I_m = trapezoid(f, a, b, 2*N) # m > k\n",
    "        dum = abs(I_m - I_k)/3   # derrived in the note\n",
    "        N = N*2   # Bisection step as mentioned in the note\n",
    "    return I_m\n",
    "\n",
    "import math\n",
    "\n",
    "def f1(x):\n",
    "    return (x**3)*math.log(1/x)\n",
    "def f2(x):\n",
    "    return math.sqrt(x)*math.exp(-x)\n",
    "\n",
    "I1 = adaptive_measure(f1, 3, 7, 0.00000001)\n",
    "I2 = adaptive_measure(f2,10, 20, 0.000001)\n",
    "\n",
    "print(\"For the first function, (x^3)log(1/x), the adaptive treatment gives the result: \\n I1 =\" + str(I1))\n",
    "print(\"For the first function, (x^(1/2))exp(-x), the adaptive treatment gives the result: \\n I2 =\" + str(I2))\n"
   ]
  }
 ],
 "metadata": {
  "interpreter": {
   "hash": "a10fe58052d53de2f628fe753df202ab061ed00aa63930584c0feb86b9c4bc70"
  },
  "kernelspec": {
   "display_name": "Python 3.7.4 32-bit",
   "language": "python",
   "name": "python3"
  },
  "language_info": {
   "codemirror_mode": {
    "name": "ipython",
    "version": 3
   },
   "file_extension": ".py",
   "mimetype": "text/x-python",
   "name": "python",
   "nbconvert_exporter": "python",
   "pygments_lexer": "ipython3",
   "version": "3.7.4"
  },
  "orig_nbformat": 4
 },
 "nbformat": 4,
 "nbformat_minor": 2
}
